{
 "cells": [
  {
   "cell_type": "code",
   "id": "initial_id",
   "metadata": {
    "collapsed": true,
    "ExecuteTime": {
     "end_time": "2025-09-13T16:08:02.033539Z",
     "start_time": "2025-09-13T16:08:01.936225Z"
    }
   },
   "source": [
    "# Simple DEM Comparison Analysis\n",
    "import numpy as np\n",
    "import pandas as pd\n",
    "import geopandas as gpd\n",
    "from shapely.geometry import Point\n",
    "import rasterio\n",
    "from rasterio.warp import reproject, Resampling, calculate_default_transform\n",
    "from rasterio.transform import from_bounds\n",
    "import matplotlib.pyplot as plt\n",
    "from scipy.interpolate import griddata\n",
    "from sklearn.gaussian_process import GaussianProcessRegressor\n",
    "from sklearn.gaussian_process.kernels import Matern\n",
    "from pathlib import Path\n",
    "import warnings\n",
    "warnings.filterwarnings('ignore')\n",
    "\n",
    "# Additional analysis imports\n",
    "from scipy import stats\n",
    "from sklearn.metrics import mean_squared_error, mean_absolute_error\n",
    "import xarray as xr\n",
    "DATA_DIR = Path(\"data\")\n",
    "RESULTS_DIR = Path(\"results\")\n",
    "RESULTS_DIR.mkdir(exist_ok=True)\n",
    "\n",
    "TARGET_CRS = 'EPSG:32632'  # UTM 32N\n",
    "resolution = 10  # meters\n",
    "NODATA = -9999\n",
    "saocom_files = list(DATA_DIR.glob(\"verona*\"))"
   ],
   "outputs": [],
   "execution_count": 32
  },
  {
   "metadata": {
    "ExecuteTime": {
     "end_time": "2025-09-13T16:08:01.729798400Z",
     "start_time": "2025-09-12T23:53:08.696161Z"
    }
   },
   "cell_type": "code",
   "source": [
    "\"\"\"Load SAOCOM point data\"\"\"\n",
    "# Try different separators\n",
    "\n",
    "df = pd.read_csv(saocom_files[0], sep=',')\n",
    "# Standardize column names\n",
    "cols = df.columns.str.upper().str.strip()\n",
    "mapping = {'LAT': 'lat', 'LON': 'lon', 'HEIGHT': 'height', 'COHER': 'coherence'}\n",
    "\n",
    "for old, new in mapping.items():\n",
    "    if old in cols:\n",
    "        df = df.rename(columns={old: new})\n",
    "\n",
    "# Clean data\n",
    "for col in ['lat', 'lon', 'height', 'coherence']:\n",
    "    df[col] = pd.to_numeric(df[col], errors='coerce')\n",
    "\n",
    "df = df.dropna(subset=['lat', 'lon', 'height'])\n",
    "df = df[df['coherence'] >= 0.3]  # Filter by coherence\n",
    "\n",
    "# Convert to GeoDataFrame and reproject\n",
    "geometry = [Point(lon, lat) for lon, lat in zip(df['lon'], df['lat'])]\n",
    "gdf = gpd.GeoDataFrame(df, geometry=geometry, crs='EPSG:4326')\n",
    "gdf = gdf.to_crs(TARGET_CRS)\n",
    "gdf['x'] = gdf.geometry.x\n",
    "gdf['y'] = gdf.geometry.y"
   ],
   "id": "eb1286d64e849a46",
   "outputs": [],
   "execution_count": 21
  },
  {
   "metadata": {
    "ExecuteTime": {
     "end_time": "2025-09-13T16:08:01.731872600Z",
     "start_time": "2025-09-13T00:18:39.207652Z"
    }
   },
   "cell_type": "code",
   "source": [
    "\"\"\"Convert points to regular grid\"\"\"\n",
    "method = 'cubic'\n",
    "# Define grid bounds\n",
    "bounds = gdf.total_bounds\n",
    "xmin, ymin, xmax, ymax = bounds\n",
    "\n",
    "# Create grid\n",
    "x = np.arange(xmin, xmax + resolution, resolution)\n",
    "y = np.arange(ymax, ymin - resolution, -resolution)  # Flip Y direction\n",
    "grid_x, grid_y = np.meshgrid(x, y)\n",
    "\n",
    "# Interpolate\n",
    "points_xy = np.column_stack([gdf['x'], gdf['y']])\n",
    "values = gdf['height'].values\n",
    "grid_points = np.column_stack([grid_x.ravel(), grid_y.ravel()])\n",
    "\n",
    "grid_values = griddata(points_xy, values, grid_points, method=method, fill_value=NODATA)\n",
    "saocom_grid = grid_values.reshape(grid_x.shape)\n",
    "\n",
    "# Save as GeoTIFF\n",
    "transform = from_bounds(xmin, ymin, xmax, ymax, len(x), len(y))\n",
    "\n",
    "saocom_raster_path = RESULTS_DIR / f\"saocom_dem_{method}.tif\"\n",
    "with rasterio.open(saocom_raster_path, 'w', driver='GTiff', height=saocom_grid.shape[0],\n",
    "                   width=saocom_grid.shape[1], count=1, dtype='float32',\n",
    "                   crs=TARGET_CRS, transform=transform, nodata=NODATA) as dst:\n",
    "    dst.write(saocom_grid.astype('float32'), 1)\n",
    "\n"
   ],
   "id": "1860c7b4cf3b62ba",
   "outputs": [],
   "execution_count": 31
  },
  {
   "metadata": {},
   "cell_type": "code",
   "outputs": [],
   "execution_count": null,
   "source": "",
   "id": "2b358f49302d60a5"
  }
 ],
 "metadata": {
  "kernelspec": {
   "display_name": "Python 3",
   "language": "python",
   "name": "python3"
  },
  "language_info": {
   "codemirror_mode": {
    "name": "ipython",
    "version": 2
   },
   "file_extension": ".py",
   "mimetype": "text/x-python",
   "name": "python",
   "nbconvert_exporter": "python",
   "pygments_lexer": "ipython2",
   "version": "2.7.6"
  }
 },
 "nbformat": 4,
 "nbformat_minor": 5
}
