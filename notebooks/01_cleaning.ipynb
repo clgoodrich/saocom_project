{
 "cells": [
  {
   "cell_type": "markdown",
   "metadata": {},
   "source": [
    "# 01 Cleaning\n",
    "\n",
    "This notebook applies deterministic preprocessing to produce analysis-ready datasets. It orchestrates the reusable functions in `src.cleaning`.\n"
   ],
   "id": "442e567e8526ae70"
  },
  {
   "cell_type": "code",
   "metadata": {
    "ExecuteTime": {
     "end_time": "2025-10-26T16:28:27.772737Z",
     "start_time": "2025-10-26T16:28:27.333845Z"
    }
   },
   "source": [
    "# Import shared pipeline utilities\n",
    "from src import cleaning, io_utils\n",
    "\n",
    "clean_config = cleaning.CleaningConfig()\n",
    "cleaning.clean_all(config=clean_config)\n"
   ],
   "id": "3c933d9ffcfe8b0f",
   "outputs": [
    {
     "ename": "ValueError",
     "evalue": "mutable default <class 'src.io_utils.DatasetPaths'> for field source_paths is not allowed: use default_factory",
     "output_type": "error",
     "traceback": [
      "\u001B[31m---------------------------------------------------------------------------\u001B[39m",
      "\u001B[31mValueError\u001B[39m                                Traceback (most recent call last)",
      "\u001B[36mCell\u001B[39m\u001B[36m \u001B[39m\u001B[32mIn[1]\u001B[39m\u001B[32m, line 2\u001B[39m\n\u001B[32m      1\u001B[39m \u001B[38;5;66;03m# Import shared pipeline utilities\u001B[39;00m\n\u001B[32m----> \u001B[39m\u001B[32m2\u001B[39m \u001B[38;5;28;01mfrom\u001B[39;00m\u001B[38;5;250m \u001B[39m\u001B[34;01msrc\u001B[39;00m\u001B[38;5;250m \u001B[39m\u001B[38;5;28;01mimport\u001B[39;00m cleaning, io_utils\n\u001B[32m      4\u001B[39m clean_config = cleaning.CleaningConfig()\n\u001B[32m      5\u001B[39m cleaning.clean_all(config=clean_config)\n",
      "\u001B[36mFile \u001B[39m\u001B[32m~\\Documents\\GitHub\\saocom_project\\src\\cleaning.py:14\u001B[39m\n\u001B[32m      9\u001B[39m \u001B[38;5;28;01mimport\u001B[39;00m\u001B[38;5;250m \u001B[39m\u001B[34;01mpandas\u001B[39;00m\u001B[38;5;250m \u001B[39m\u001B[38;5;28;01mas\u001B[39;00m\u001B[38;5;250m \u001B[39m\u001B[34;01mpd\u001B[39;00m\n\u001B[32m     11\u001B[39m \u001B[38;5;28;01mfrom\u001B[39;00m\u001B[38;5;250m \u001B[39m\u001B[34;01m.\u001B[39;00m\u001B[38;5;250m \u001B[39m\u001B[38;5;28;01mimport\u001B[39;00m io_utils\n\u001B[32m---> \u001B[39m\u001B[32m14\u001B[39m \u001B[38;5;129;43m@dataclass\u001B[39;49m\u001B[43m(\u001B[49m\u001B[43mslots\u001B[49m\u001B[43m=\u001B[49m\u001B[38;5;28;43;01mTrue\u001B[39;49;00m\u001B[43m)\u001B[49m\n\u001B[32m     15\u001B[39m \u001B[38;5;28;43;01mclass\u001B[39;49;00m\u001B[38;5;250;43m \u001B[39;49m\u001B[34;43;01mCleaningConfig\u001B[39;49;00m\u001B[43m:\u001B[49m\n\u001B[32m     16\u001B[39m \u001B[38;5;250;43m    \u001B[39;49m\u001B[33;43;03m\"\"\"Configuration controlling cleaning steps for the pipeline.\"\"\"\u001B[39;49;00m\n\u001B[32m     18\u001B[39m \u001B[43m    \u001B[49m\u001B[43msource_paths\u001B[49m\u001B[43m:\u001B[49m\u001B[43m \u001B[49m\u001B[43mio_utils\u001B[49m\u001B[43m.\u001B[49m\u001B[43mDatasetPaths\u001B[49m\u001B[43m \u001B[49m\u001B[43m=\u001B[49m\u001B[43m \u001B[49m\u001B[43mio_utils\u001B[49m\u001B[43m.\u001B[49m\u001B[43mDatasetPaths\u001B[49m\u001B[43m(\u001B[49m\u001B[43m)\u001B[49m\n",
      "\u001B[36mFile \u001B[39m\u001B[32m~\\AppData\\Local\\Programs\\Python\\Python313\\Lib\\dataclasses.py:1295\u001B[39m, in \u001B[36mdataclass.<locals>.wrap\u001B[39m\u001B[34m(cls)\u001B[39m\n\u001B[32m   1294\u001B[39m \u001B[38;5;28;01mdef\u001B[39;00m\u001B[38;5;250m \u001B[39m\u001B[34mwrap\u001B[39m(\u001B[38;5;28mcls\u001B[39m):\n\u001B[32m-> \u001B[39m\u001B[32m1295\u001B[39m     \u001B[38;5;28;01mreturn\u001B[39;00m \u001B[43m_process_class\u001B[49m\u001B[43m(\u001B[49m\u001B[38;5;28;43mcls\u001B[39;49m\u001B[43m,\u001B[49m\u001B[43m \u001B[49m\u001B[43minit\u001B[49m\u001B[43m,\u001B[49m\u001B[43m \u001B[49m\u001B[38;5;28;43mrepr\u001B[39;49m\u001B[43m,\u001B[49m\u001B[43m \u001B[49m\u001B[43meq\u001B[49m\u001B[43m,\u001B[49m\u001B[43m \u001B[49m\u001B[43morder\u001B[49m\u001B[43m,\u001B[49m\u001B[43m \u001B[49m\u001B[43munsafe_hash\u001B[49m\u001B[43m,\u001B[49m\n\u001B[32m   1296\u001B[39m \u001B[43m                          \u001B[49m\u001B[43mfrozen\u001B[49m\u001B[43m,\u001B[49m\u001B[43m \u001B[49m\u001B[43mmatch_args\u001B[49m\u001B[43m,\u001B[49m\u001B[43m \u001B[49m\u001B[43mkw_only\u001B[49m\u001B[43m,\u001B[49m\u001B[43m \u001B[49m\u001B[43mslots\u001B[49m\u001B[43m,\u001B[49m\n\u001B[32m   1297\u001B[39m \u001B[43m                          \u001B[49m\u001B[43mweakref_slot\u001B[49m\u001B[43m)\u001B[49m\n",
      "\u001B[36mFile \u001B[39m\u001B[32m~\\AppData\\Local\\Programs\\Python\\Python313\\Lib\\dataclasses.py:1008\u001B[39m, in \u001B[36m_process_class\u001B[39m\u001B[34m(cls, init, repr, eq, order, unsafe_hash, frozen, match_args, kw_only, slots, weakref_slot)\u001B[39m\n\u001B[32m   1005\u001B[39m         kw_only = \u001B[38;5;28;01mTrue\u001B[39;00m\n\u001B[32m   1006\u001B[39m     \u001B[38;5;28;01melse\u001B[39;00m:\n\u001B[32m   1007\u001B[39m         \u001B[38;5;66;03m# Otherwise it's a field of some type.\u001B[39;00m\n\u001B[32m-> \u001B[39m\u001B[32m1008\u001B[39m         cls_fields.append(\u001B[43m_get_field\u001B[49m\u001B[43m(\u001B[49m\u001B[38;5;28;43mcls\u001B[39;49m\u001B[43m,\u001B[49m\u001B[43m \u001B[49m\u001B[43mname\u001B[49m\u001B[43m,\u001B[49m\u001B[43m \u001B[49m\u001B[38;5;28;43mtype\u001B[39;49m\u001B[43m,\u001B[49m\u001B[43m \u001B[49m\u001B[43mkw_only\u001B[49m\u001B[43m)\u001B[49m)\n\u001B[32m   1010\u001B[39m \u001B[38;5;28;01mfor\u001B[39;00m f \u001B[38;5;129;01min\u001B[39;00m cls_fields:\n\u001B[32m   1011\u001B[39m     fields[f.name] = f\n",
      "\u001B[36mFile \u001B[39m\u001B[32m~\\AppData\\Local\\Programs\\Python\\Python313\\Lib\\dataclasses.py:860\u001B[39m, in \u001B[36m_get_field\u001B[39m\u001B[34m(cls, a_name, a_type, default_kw_only)\u001B[39m\n\u001B[32m    856\u001B[39m \u001B[38;5;66;03m# For real fields, disallow mutable defaults.  Use unhashable as a proxy\u001B[39;00m\n\u001B[32m    857\u001B[39m \u001B[38;5;66;03m# indicator for mutability.  Read the __hash__ attribute from the class,\u001B[39;00m\n\u001B[32m    858\u001B[39m \u001B[38;5;66;03m# not the instance.\u001B[39;00m\n\u001B[32m    859\u001B[39m \u001B[38;5;28;01mif\u001B[39;00m f._field_type \u001B[38;5;129;01mis\u001B[39;00m _FIELD \u001B[38;5;129;01mand\u001B[39;00m f.default.\u001B[34m__class__\u001B[39m.\u001B[34m__hash__\u001B[39m \u001B[38;5;129;01mis\u001B[39;00m \u001B[38;5;28;01mNone\u001B[39;00m:\n\u001B[32m--> \u001B[39m\u001B[32m860\u001B[39m     \u001B[38;5;28;01mraise\u001B[39;00m \u001B[38;5;167;01mValueError\u001B[39;00m(\u001B[33mf\u001B[39m\u001B[33m'\u001B[39m\u001B[33mmutable default \u001B[39m\u001B[38;5;132;01m{\u001B[39;00m\u001B[38;5;28mtype\u001B[39m(f.default)\u001B[38;5;132;01m}\u001B[39;00m\u001B[33m for field \u001B[39m\u001B[33m'\u001B[39m\n\u001B[32m    861\u001B[39m                      \u001B[33mf\u001B[39m\u001B[33m'\u001B[39m\u001B[38;5;132;01m{\u001B[39;00mf.name\u001B[38;5;132;01m}\u001B[39;00m\u001B[33m is not allowed: use default_factory\u001B[39m\u001B[33m'\u001B[39m)\n\u001B[32m    863\u001B[39m \u001B[38;5;28;01mreturn\u001B[39;00m f\n",
      "\u001B[31mValueError\u001B[39m: mutable default <class 'src.io_utils.DatasetPaths'> for field source_paths is not allowed: use default_factory"
     ]
    }
   ],
   "execution_count": 1
  }
 ],
 "metadata": {
  "kernelspec": {
   "display_name": "Python 3",
   "language": "python",
   "name": "python3"
  },
  "language_info": {
   "name": "python",
   "version": "3.11"
  }
 },
 "nbformat": 4,
 "nbformat_minor": 5
}
