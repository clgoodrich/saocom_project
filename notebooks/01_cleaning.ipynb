{
 "cells": [
  {
   "cell_type": "markdown",
   "metadata": {},
   "source": [
    "# 01 Cleaning\n",
    "\n",
    "This notebook applies deterministic preprocessing to produce analysis-ready datasets. It orchestrates the reusable functions in `src.cleaning`.\n"
   ]
  },
  {
   "cell_type": "code",
   "execution_count": null,
   "metadata": {},
   "outputs": [],
   "source": [
    "# Import shared pipeline utilities\n",
    "from src import cleaning, io_utils\n",
    "\n",
    "clean_config = cleaning.CleaningConfig()\n",
    "cleaning.clean_all(config=clean_config)\n"
   ]
  }
 ],
 "metadata": {
  "kernelspec": {
   "display_name": "Python 3",
   "language": "python",
   "name": "python3"
  },
  "language_info": {
   "name": "python",
   "version": "3.11"
  }
 },
 "nbformat": 4,
 "nbformat_minor": 5
}
