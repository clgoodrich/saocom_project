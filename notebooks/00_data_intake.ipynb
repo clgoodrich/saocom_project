{
 "cells": [
  {
   "cell_type": "markdown",
   "metadata": {},
   "source": [
    "# 00 Data Intake\n",
    "\n",
    "This notebook documents data acquisition and validation steps before the cleaning pipeline begins.\n"
   ]
  },
  {
   "cell_type": "code",
   "execution_count": null,
   "metadata": {},
   "outputs": [],
   "source": [
    "# Configure paths, constants, and environment variables for data downloads here.\n",
    "from pathlib import Path\n",
    "\n",
    "PROJECT_ROOT = Path('..').resolve()\n",
    "RAW_DATA_DIR = PROJECT_ROOT / 'data' / 'raw'\n",
    "SAMPLE_DATA_DIR = RAW_DATA_DIR / 'sample'\n",
    "\n",
    "RAW_DATA_DIR.mkdir(parents=True, exist_ok=True)\n",
    "SAMPLE_DATA_DIR.mkdir(parents=True, exist_ok=True)\n",
    "print(f'Raw data directory: {RAW_DATA_DIR}')\n"
   ]
  }
 ],
 "metadata": {
  "kernelspec": {
   "display_name": "Python 3",
   "language": "python",
   "name": "python3"
  },
  "language_info": {
   "name": "python",
   "version": "3.11"
  }
 },
 "nbformat": 4,
 "nbformat_minor": 5
}
